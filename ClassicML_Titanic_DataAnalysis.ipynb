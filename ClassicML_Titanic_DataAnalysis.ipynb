{
 "cells": [
  {
   "cell_type": "markdown",
   "metadata": {},
   "source": [
    "# Kaggle - Titanic: Machine Learning from Disaster\n",
    "\n",
    "## Index:\n",
    "    1. Data Understanding\n",
    "    2. Data Preparation\n",
    "    3. Modeling\n",
    "    4. Evaluation\n",
    "    5. Predict result\n",
    "\n",
    "## Goal:\n",
    "To predict if a passenger survived in the Titanic sinking accident.\n",
    "The prediction is 0 or 1. (0 represents die out while 1 represent survive)\n",
    "\n",
    "## Metric:\n",
    "Accuracy score metrix was used to evluate the model"
   ]
  },
  {
   "cell_type": "code",
   "execution_count": 14,
   "metadata": {},
   "outputs": [
    {
     "name": "stdout",
     "output_type": "stream",
     "text": [
      "The autoreload extension is already loaded. To reload it, use:\n",
      "  %reload_ext autoreload\n"
     ]
    }
   ],
   "source": [
    "# import packages\n",
    "import numpy as np\n",
    "import pandas as pd\n",
    "import matplotlib.pyplot as plt\n",
    "import seaborn as sns\n",
    "from util_plot import barplot_survived_rate\n",
    "from IPython.display import display\n",
    "from scipy.stats import boxcox\n",
    "import re\n",
    "\n",
    "%matplotlib inline\n",
    "sns.set(color_codes = True)\n",
    "plt.figure.rcParams = 20,15\n",
    "\n",
    "%load_ext autoreload\n",
    "%autoreload 2"
   ]
  },
  {
   "cell_type": "markdown",
   "metadata": {},
   "source": [
    "## Overview\n",
    "\n",
    "The data was split into two groups:\n",
    "- training set (train.csv)\n",
    "- test set (test.csv)\n",
    "\n",
    "## Data Dictionary\n",
    "\n",
    "|  Variable  |  Defintion  |  Key                      |\n",
    "|------------|-------------|---------------------------|\n",
    "|  survival  | Survival    | 0 = No, 1 = Yes           |\n",
    "|  pclass    | Ticket class| 1 = 1st, 2 = 2nd, 3 = 3rd |\n",
    "|    sex     | Sex         |                           |\n",
    "|    Age|Age in years||\n",
    "|sibsp| # of sibling/spouses aboard the Titanic ||\n",
    "| parch| # of parents / children aboard the Titanic||\n",
    "| ticket| Ticket number||\n",
    "| fare |Passenger fare||\n",
    "| cabin |Cabin number||\n",
    "| embarked |Port of Embarkation| C = Cerbourg, Q = Queenstown, S = Southampton|\n",
    "\n",
    "## Variable Notes\n",
    "<b>pclass</b>: A proxy for socio-economic status (SES)\n",
    "1st = Upper\n",
    "2nd = Middle\n",
    "3rd = Lower\n",
    "\n",
    "<b>age</b>: Age is fractional if less than 1. If the age is estimated, is it in the form of xx.5\n",
    "\n",
    "<b>sibsp</b>: The dataset defines family relations in this way...\n",
    "Sibling = brother, sister, stepbrother, stepsister\n",
    "Spouse = husband, wife (mistresses and fiancés were ignored)\n",
    "\n",
    "<b>parch</b>: The dataset defines family relations in this way...\n",
    "Parent = mother, father\n",
    "Child = daughter, son, stepdaughter, stepson\n",
    "Some children travelled only with a nanny, therefore parch=0 for them."
   ]
  },
  {
   "cell_type": "code",
   "execution_count": 15,
   "metadata": {
    "collapsed": true
   },
   "outputs": [],
   "source": [
    "# Read csv as dataframe\n",
    "df = pd.read_csv('train.csv')\n",
    "\n",
    "# Set PassengerID as Index\n",
    "df.set_index('PassengerId',inplace=True)\n",
    "df.index.names = ['ID']"
   ]
  },
  {
   "cell_type": "markdown",
   "metadata": {},
   "source": [
    "## Statistical Summaries and visualizations\n",
    "\n",
    "<b>Pclass - Ticket Class Analysis</b>\n",
    "\n",
    "It shows that survival rate goes down with the ticket class that implements ticket class could be a possible variable which affects survival rate\n",
    "\n",
    "<b>Name - Title Analysis</b>\n",
    "\n",
    "It shows that probability of survival varies along title of name (e.g 'Mr',\"Mrs\" etc). Title of name can be reflect each person's econ-social status. In the sinking of titanic, econ-social status could be one of the important factor that affect rescure priority. Moreover, in the title analysis, feminine titles have higher probability which implements that gender is a super-variable that affect the survival rate.\n",
    "\n",
    "<b>Gender - Sex Analysis</b>\n",
    "\n",
    "It shows that survival rate of female is significantly higher than that of male that implements gender is a important factor \n",
    "\n",
    "<b>Title on male proportion Analysis</b>\n",
    "\n",
    "Further analysis was conducted based on the title among male proportion. It shows that Master has the highest survival rate. Second follows by Doctor. Common cilivian or plebeian shares similar survival rate which is the lowest.\n",
    "\n",
    "<b>Age Analysis</b>\n",
    "\n",
    "Divide Age into 4 main categories, 'teenage', 'adult', 'elder' and 'unclassified'. It shows that survival rate goes down with age. Teenages have the highest survival rate while elders and unclassified group have the lowest. Unclassified group means those who do not have age record. Analysis indicates that unclassified group has a significant proportion while the survival rate is about the same with elder. Therefore, it might carry important hidden message which is capable to affect the survival rate behind. \n",
    "\n",
    "<b>SibSp and Parch - Family Size Analysis</b>\n",
    "\n",
    "SibSp and Parch were added to one single feature, Family Size. An analysis on family size shows that pessenger with 1 to 3 family members aboard the Titanic has a higher survival rate compared to others. It shows that a high correlation between family size and survival rate.\n",
    "\n",
    "<b>Fare</b>\n",
    "\n",
    "Analysis of Survival rate on Fare shows that certain correlation might be appear between Fare and Survival Rate. However, some overlapping between survival and dead categories on fare indicate that the correlation is weak. It is not recommended to add this feature to the classifier.\n",
    "\n",
    "<b>Cabin</b>\n",
    "\n",
    "Missing Data in Cabin was found to occupy 70% of the total proportion. Lots of information is lost in this feature. It is not recommended to add this feature to the classifier.\n",
    "\n",
    "<b>Embarked</b>\n",
    "\n",
    "Though there are difference of survival rate among those who are embarked from different ports, the difference is small. This might not be a significant factor.\n"
   ]
  },
  {
   "cell_type": "code",
   "execution_count": 16,
   "metadata": {},
   "outputs": [
    {
     "name": "stdout",
     "output_type": "stream",
     "text": [
      "Pclass\n",
      "1    216\n",
      "2    184\n",
      "3    491\n",
      "Name: Survived, dtype: int64 Pclass\n",
      "1    0.242424\n",
      "2    0.206510\n",
      "3    0.551066\n",
      "Name: Survived, dtype: float64\n"
     ]
    },
    {
     "name": "stderr",
     "output_type": "stream",
     "text": [
      "/Applications/anaconda/lib/python3.6/site-packages/seaborn/categorical.py:1428: FutureWarning: remove_na is deprecated and is a private function. Do not use.\n",
      "  stat_data = remove_na(group_data)\n"
     ]
    },
    {
     "data": {
      "text/plain": [
       "<matplotlib.axes._subplots.AxesSubplot at 0x1a1a194ba8>"
      ]
     },
     "execution_count": 16,
     "metadata": {},
     "output_type": "execute_result"
    },
    {
     "data": {
      "image/png": "[encoded data removed]",
      "text/plain": [
       "<Figure size 576x396 with 1 Axes>"
      ]
     },
     "metadata": {},
     "output_type": "display_data"
    }
   ],
   "source": [
    "# Pclass analysis\n",
    "temp01 = df[['Survived','Pclass']]\n",
    "total = temp01.groupby('Pclass').Survived.count()\n",
    "Proportion = total/total.sum()\n",
    "print(total,Proportion)\n",
    "\n",
    "# Survival Rate Based on pclass\n",
    "barplot_survived_rate(temp01,'Pclass','Classes')"
   ]
  },
  {
   "cell_type": "code",
   "execution_count": 17,
   "metadata": {},
   "outputs": [
    {
     "name": "stderr",
     "output_type": "stream",
     "text": [
      "/Applications/anaconda/lib/python3.6/site-packages/ipykernel_launcher.py:32: SettingWithCopyWarning: \n",
      "A value is trying to be set on a copy of a slice from a DataFrame.\n",
      "Try using .loc[row_indexer,col_indexer] = value instead\n",
      "\n",
      "See the caveats in the documentation: http://pandas.pydata.org/pandas-docs/stable/indexing.html#indexing-view-versus-copy\n"
     ]
    }
   ],
   "source": [
    "# Name Analysis\n",
    "temp02 = df[['Survived','Name']]\n",
    "\n",
    "# Check significant title from name\n",
    "titles = ['Mr','Ms',\"Mrs\",'Dr','Miss','Master','Major']\n",
    "for name in temp02.Name:\n",
    "    check = False\n",
    "    for i in titles:\n",
    "        if i in name:\n",
    "            check = True\n",
    "    if not check:\n",
    "        continue\n",
    "        \n",
    "# Extract title from name\n",
    "titles_dict = {\n",
    "    'Ms' : 'Ms',\n",
    "    'Mrs': 'Mrs',\n",
    "    'Mr' : 'Mr',\n",
    "    'Dr' : 'Dr',\n",
    "    'Miss': 'Ms',\n",
    "    'Master': 'Master'\n",
    "}\n",
    "def extract_title(name):\n",
    "    check = False\n",
    "    for title in titles_dict.keys():\n",
    "        if title in name:\n",
    "            check = True\n",
    "            return titles_dict[title]\n",
    "    if not check:\n",
    "        return 'Unclassified'\n",
    "\n",
    "temp02['title'] = temp02['Name'].apply(extract_title)"
   ]
  },
  {
   "cell_type": "code",
   "execution_count": 18,
   "metadata": {},
   "outputs": [
    {
     "name": "stdout",
     "output_type": "stream",
     "text": [
      "              Survived\n",
      "title                 \n",
      "Dr                   8\n",
      "Master              40\n",
      "Mr                 518\n",
      "Mrs                129\n",
      "Ms                 180\n",
      "Unclassified        16               Survived\n",
      "title                 \n",
      "Dr            0.008979\n",
      "Master        0.044893\n",
      "Mr            0.581369\n",
      "Mrs           0.144781\n",
      "Ms            0.202020\n",
      "Unclassified  0.017957\n"
     ]
    },
    {
     "name": "stderr",
     "output_type": "stream",
     "text": [
      "/Applications/anaconda/lib/python3.6/site-packages/seaborn/categorical.py:1428: FutureWarning: remove_na is deprecated and is a private function. Do not use.\n",
      "  stat_data = remove_na(group_data)\n"
     ]
    },
    {
     "data": {
      "text/plain": [
       "<matplotlib.axes._subplots.AxesSubplot at 0x1a1a194c50>"
      ]
     },
     "execution_count": 18,
     "metadata": {},
     "output_type": "execute_result"
    },
    {
     "data": {
      "image/png": "[encoded data removed]",
      "text/plain": [
       "<Figure size 576x396 with 1 Axes>"
      ]
     },
     "metadata": {},
     "output_type": "display_data"
    }
   ],
   "source": [
    "# Count title\n",
    "total = temp02[['title','Survived']].groupby('title').count()\n",
    "proportion = total/total.sum()\n",
    "print(total,proportion)\n",
    "\n",
    "# Probability of survival based on title\n",
    "barplot_survived_rate(temp02,'title','title')"
   ]
  },
  {
   "cell_type": "code",
   "execution_count": 19,
   "metadata": {},
   "outputs": [
    {
     "name": "stdout",
     "output_type": "stream",
     "text": [
      "Sex\n",
      "female    314\n",
      "male      577\n",
      "Name: Survived, dtype: int64 Sex\n",
      "female    0.352413\n",
      "male      0.647587\n",
      "Name: Survived, dtype: float64\n"
     ]
    },
    {
     "name": "stderr",
     "output_type": "stream",
     "text": [
      "/Applications/anaconda/lib/python3.6/site-packages/seaborn/categorical.py:1428: FutureWarning: remove_na is deprecated and is a private function. Do not use.\n",
      "  stat_data = remove_na(group_data)\n"
     ]
    },
    {
     "data": {
      "text/plain": [
       "<matplotlib.axes._subplots.AxesSubplot at 0x1a1b08ea90>"
      ]
     },
     "execution_count": 19,
     "metadata": {},
     "output_type": "execute_result"
    },
    {
     "data": {
      "image/png": "[encoded data removed]",
      "text/plain": [
       "<Figure size 576x396 with 1 Axes>"
      ]
     },
     "metadata": {},
     "output_type": "display_data"
    }
   ],
   "source": [
    "# Sex analysis\n",
    "temp03 = df[['Survived','Sex']]\n",
    "total = temp03.groupby('Sex').Survived.count()\n",
    "proportion = total/total.sum()\n",
    "print(total,proportion)\n",
    "\n",
    "# Survival Rate Based on Gender\n",
    "barplot_survived_rate(temp03,'Sex','Gender')"
   ]
  },
  {
   "cell_type": "code",
   "execution_count": 20,
   "metadata": {},
   "outputs": [
    {
     "name": "stderr",
     "output_type": "stream",
     "text": [
      "/Applications/anaconda/lib/python3.6/site-packages/seaborn/categorical.py:1428: FutureWarning: remove_na is deprecated and is a private function. Do not use.\n",
      "  stat_data = remove_na(group_data)\n"
     ]
    },
    {
     "data": {
      "text/plain": [
       "<matplotlib.axes._subplots.AxesSubplot at 0x1a1b47dcf8>"
      ]
     },
     "execution_count": 20,
     "metadata": {},
     "output_type": "execute_result"
    },
    {
     "data": {
      "image/png": "[encoded data removed]",
      "text/plain": [
       "<Figure size 576x396 with 1 Axes>"
      ]
     },
     "metadata": {},
     "output_type": "display_data"
    }
   ],
   "source": [
    "# Title in Male proportion analysis\n",
    "temp04 = pd.concat([df.Survived,df.Sex,temp02.title],axis=1)\n",
    "temp04 = temp04[temp04.Sex == 'male']\n",
    "\n",
    "# Survival Rate based on the title in male proportion\n",
    "barplot_survived_rate(temp04,'title',title='title in male')"
   ]
  },
  {
   "cell_type": "code",
   "execution_count": 21,
   "metadata": {},
   "outputs": [
    {
     "name": "stdout",
     "output_type": "stream",
     "text": [
      "Age range is 0.42-80.0\n",
      "              Survived\n",
      "Age                   \n",
      "Unclassified  0.198653\n",
      "adult         0.588103\n",
      "elder         0.029181\n",
      "teenage       0.184063\n"
     ]
    },
    {
     "name": "stderr",
     "output_type": "stream",
     "text": [
      "/Applications/anaconda/lib/python3.6/site-packages/ipykernel_launcher.py:21: SettingWithCopyWarning: \n",
      "A value is trying to be set on a copy of a slice from a DataFrame.\n",
      "Try using .loc[row_indexer,col_indexer] = value instead\n",
      "\n",
      "See the caveats in the documentation: http://pandas.pydata.org/pandas-docs/stable/indexing.html#indexing-view-versus-copy\n",
      "/Applications/anaconda/lib/python3.6/site-packages/seaborn/categorical.py:1428: FutureWarning: remove_na is deprecated and is a private function. Do not use.\n",
      "  stat_data = remove_na(group_data)\n"
     ]
    },
    {
     "data": {
      "image/png": "[encoded data removed]",
      "text/plain": [
       "<Figure size 576x396 with 1 Axes>"
      ]
     },
     "metadata": {},
     "output_type": "display_data"
    }
   ],
   "source": [
    "# Age analysis\n",
    "temp05 = df[['Survived','Age']]\n",
    "print('Age range is ' + str(temp05.Age.min()) + '-' + str(temp05.Age.max()))\n",
    "\n",
    "# Divide into Age group\n",
    "def divide_age(age):\n",
    "    \"\"\"\n",
    "    Definition of age group\n",
    "        teenage: 0 <= age < 20\n",
    "        young adult: 20 <= age <40\n",
    "        adult: 40 <= age < 60\n",
    "        elder: 60 <= age < 81\n",
    "    \"\"\"\n",
    "    age_group = {'teenage':(0,20),'adult':(20,60),'elder':(60,81)}\n",
    "    for i,j in age_group.items():\n",
    "        if age >= j[0] and age < j[1]:\n",
    "            return i\n",
    "    else:\n",
    "        return 'Unclassified'\n",
    "\n",
    "temp05['Age'] = temp05['Age'].apply(divide_age)\n",
    "barplot = barplot_survived_rate(temp05,'Age',\"Age Groups\")\n",
    "\n",
    "total = temp05.groupby('Age').count()\n",
    "print(total/total.sum())\n",
    "#total.reset_index(inplace=True)\n",
    "#axes[1] = sns.barplot(data = total,x='Age',y='Survived')"
   ]
  },
  {
   "cell_type": "code",
   "execution_count": 22,
   "metadata": {},
   "outputs": [
    {
     "name": "stderr",
     "output_type": "stream",
     "text": [
      "/Applications/anaconda/lib/python3.6/site-packages/ipykernel_launcher.py:3: SettingWithCopyWarning: \n",
      "A value is trying to be set on a copy of a slice from a DataFrame.\n",
      "Try using .loc[row_indexer,col_indexer] = value instead\n",
      "\n",
      "See the caveats in the documentation: http://pandas.pydata.org/pandas-docs/stable/indexing.html#indexing-view-versus-copy\n",
      "  This is separate from the ipykernel package so we can avoid doing imports until\n",
      "/Applications/anaconda/lib/python3.6/site-packages/ipykernel_launcher.py:18: SettingWithCopyWarning: \n",
      "A value is trying to be set on a copy of a slice from a DataFrame.\n",
      "Try using .loc[row_indexer,col_indexer] = value instead\n",
      "\n",
      "See the caveats in the documentation: http://pandas.pydata.org/pandas-docs/stable/indexing.html#indexing-view-versus-copy\n",
      "/Applications/anaconda/lib/python3.6/site-packages/pandas/core/indexes/base.py:3756: RuntimeWarning: '<' not supported between instances of 'int' and 'str', sort order is undefined for incomparable objects\n",
      "  return this.join(other, how=how, return_indexers=return_indexers)\n",
      "/Applications/anaconda/lib/python3.6/site-packages/seaborn/categorical.py:1428: FutureWarning: remove_na is deprecated and is a private function. Do not use.\n",
      "  stat_data = remove_na(group_data)\n"
     ]
    },
    {
     "name": "stdout",
     "output_type": "stream",
     "text": [
      "family_size\n",
      "0     537\n",
      "1     161\n",
      "2     102\n",
      "3      29\n",
      "4      15\n",
      "5      22\n",
      "6      12\n",
      "7       6\n",
      "10      7\n",
      "Name: Survived, dtype: int64 family_size\n",
      "0     0.602694\n",
      "1     0.180696\n",
      "2     0.114478\n",
      "3     0.032548\n",
      "4     0.016835\n",
      "5     0.024691\n",
      "6     0.013468\n",
      "7     0.006734\n",
      "10    0.007856\n",
      "Name: Survived, dtype: float64\n"
     ]
    },
    {
     "data": {
      "image/png": "[encoded data removed]",
      "text/plain": [
       "<Figure size 576x396 with 1 Axes>"
      ]
     },
     "metadata": {},
     "output_type": "display_data"
    }
   ],
   "source": [
    "#Sibling and parch analysis\n",
    "temp06 = df[['Survived','SibSp','Parch']]\n",
    "temp06['family_size'] = temp06['SibSp'] + temp06['Parch']\n",
    "total = temp06.groupby('family_size').Survived.count()\n",
    "proportion = total/total.sum()\n",
    "print(total,proportion)\n",
    "#for i in ['SibSp','Parch','family_size']:\n",
    "#g1 = barplot_survived_rate(temp06,'SibSp','SibSp')\n",
    "#g2 = barplot_survived_rate(temp06,'Parch','Parch')\n",
    "\n",
    "\n",
    "def group_large(x):\n",
    "    if x > 6:\n",
    "        return '>6'\n",
    "    else:\n",
    "        return x\n",
    "\n",
    "temp06['family_size'] = temp06['family_size'].apply(group_large)\n",
    "g3 = barplot_survived_rate(temp06,'family_size','family_size')\n"
   ]
  },
  {
   "cell_type": "code",
   "execution_count": 23,
   "metadata": {},
   "outputs": [
    {
     "name": "stderr",
     "output_type": "stream",
     "text": [
      "/Applications/anaconda/lib/python3.6/site-packages/ipykernel_launcher.py:108: SettingWithCopyWarning: \n",
      "A value is trying to be set on a copy of a slice from a DataFrame.\n",
      "Try using .loc[row_indexer,col_indexer] = value instead\n",
      "\n",
      "See the caveats in the documentation: http://pandas.pydata.org/pandas-docs/stable/indexing.html#indexing-view-versus-copy\n"
     ]
    }
   ],
   "source": [
    "#Ticket Analysis\n",
    "temp07 = df[['Survived','Ticket']]\n",
    "def isnumeric(x):\n",
    "    return x.isnumeric()\n",
    "\n",
    "def notnumeric(x):\n",
    "    return not x.isnumeric()\n",
    "\n",
    "temp07_num = temp07.Ticket[temp07.Ticket.apply(isnumeric)]\n",
    "temp07_nonnum = temp07.Ticket[temp07.Ticket.apply(notnumeric)]  \n",
    "\n",
    "def grouping(x):\n",
    "    \n",
    "    def group_num(x):\n",
    "        \"\"\"\n",
    "        Group by first three numbers\n",
    "        \"\"\"\n",
    "        if x[:3].isnumeric():\n",
    "            num = f\"Num {x[0]}\"\n",
    "            return num, True\n",
    "        else:\n",
    "            return None,False\n",
    "        \n",
    "    def group_A(x):\n",
    "        \"\"\"\n",
    "        Group by A initial\n",
    "        \"\"\"\n",
    "        d = re.search(r'^A.*',x)\n",
    "        if d:\n",
    "            return 'initial A', True\n",
    "        else:\n",
    "            return None,False\n",
    "    \n",
    "    def group_C(x):\n",
    "        \"\"\"\n",
    "        Group by C initial\n",
    "        \"\"\"\n",
    "        d = re.search(r'^C.*',x)\n",
    "        if d:\n",
    "            return 'initial C', True\n",
    "        else:\n",
    "            return None,False\n",
    "    \n",
    "    def group_F(x):\n",
    "        \"\"\"\n",
    "        Group by F initial\n",
    "        \"\"\"\n",
    "        d = re.search(r'^F.*',x)\n",
    "        if d:\n",
    "            return 'initial F', True\n",
    "        else:\n",
    "            return None,False\n",
    "    \n",
    "    def group_P(x):\n",
    "        \"\"\"\n",
    "        Group by P initial\n",
    "        \"\"\"\n",
    "        d = re.search(r'^P.*',x)\n",
    "        if d:\n",
    "            return 'initial P', True\n",
    "        else:\n",
    "            return None,False\n",
    "    \n",
    "    def group_S(x):\n",
    "        \"\"\"\n",
    "        Group by S initial\n",
    "        \"\"\"\n",
    "        d = re.search(r'^S.*',x)\n",
    "        if d:\n",
    "            return 'initial S', True\n",
    "        else:\n",
    "            return None,False\n",
    "    \n",
    "    def group_W(x):\n",
    "        \"\"\"\n",
    "        Group by W initial\n",
    "        \"\"\"\n",
    "        d = re.search(r'^W.*',x)\n",
    "        if d:\n",
    "            return 'initial W', True\n",
    "        else:\n",
    "            return None,False\n",
    "    \n",
    "        \n",
    "    num,check = group_num(x)\n",
    "    if check:\n",
    "        return num\n",
    "    result,check = group_A(x)\n",
    "    if check:\n",
    "        return result\n",
    "    result,check = group_C(x)\n",
    "    if check:\n",
    "        return result\n",
    "    result,check = group_F(x)\n",
    "    if check:\n",
    "        return result\n",
    "    result,check = group_P(x)\n",
    "    if check:\n",
    "        return result\n",
    "    result,check = group_S(x)\n",
    "    if check:\n",
    "        return result\n",
    "    result,check = group_W(x)\n",
    "    if check:\n",
    "        return result\n",
    "    \n",
    "    \n",
    "temp07[\"Grouped_ticket\"] = temp07.Ticket.apply(grouping)"
   ]
  },
  {
   "cell_type": "code",
   "execution_count": 24,
   "metadata": {},
   "outputs": [
    {
     "name": "stdout",
     "output_type": "stream",
     "text": [
      "Grouped_ticket\n",
      "Num 1        146\n",
      "Num 2        183\n",
      "Num 3        301\n",
      "Num 4         10\n",
      "Num 5          3\n",
      "Num 6          6\n",
      "Num 7          9\n",
      "Num 8          2\n",
      "Num 9          1\n",
      "initial A     29\n",
      "initial C     47\n",
      "initial F      7\n",
      "initial P     65\n",
      "initial S     65\n",
      "initial W     13\n",
      "Name: Survived, dtype: int64\n"
     ]
    },
    {
     "name": "stderr",
     "output_type": "stream",
     "text": [
      "/Applications/anaconda/lib/python3.6/site-packages/seaborn/categorical.py:1428: FutureWarning: remove_na is deprecated and is a private function. Do not use.\n",
      "  stat_data = remove_na(group_data)\n"
     ]
    },
    {
     "data": {
      "text/plain": [
       "<matplotlib.axes._subplots.AxesSubplot at 0x1a1b82ca90>"
      ]
     },
     "execution_count": 24,
     "metadata": {},
     "output_type": "execute_result"
    },
    {
     "data": {
      "image/png": "[encoded data removed]",
      "text/plain": [
       "<Figure size 576x396 with 1 Axes>"
      ]
     },
     "metadata": {},
     "output_type": "display_data"
    }
   ],
   "source": [
    "# Cont Ticket Analysis\n",
    "total = temp07.groupby(\"Grouped_ticket\").Survived.count()\n",
    "print(total)\n",
    "barplot_survived_rate(temp07,\"Grouped_ticket\",\"ticket groups\")"
   ]
  },
  {
   "cell_type": "code",
   "execution_count": 25,
   "metadata": {},
   "outputs": [
    {
     "data": {
      "text/plain": [
       "0"
      ]
     },
     "execution_count": 25,
     "metadata": {},
     "output_type": "execute_result"
    }
   ],
   "source": [
    "df.Fare.isnull().sum()"
   ]
  },
  {
   "cell_type": "code",
   "execution_count": 26,
   "metadata": {},
   "outputs": [
    {
     "name": "stdout",
     "output_type": "stream",
     "text": [
      "{'group0': 56.925466666666665, 'group1': 113.85093333333333, 'group2': 170.7764, 'group3': 227.70186666666666, 'group4': 284.62733333333335, 'group5': 341.5528, 'group6': 398.4782666666667, 'group7': 455.4037333333333, 'group8': 512.3292}\n",
      "Grouped_Fare\n",
      "group0    762\n",
      "group1     87\n",
      "group2     22\n",
      "group3      9\n",
      "group4      8\n",
      "group8      3\n",
      "Name: Survived, dtype: int64\n"
     ]
    },
    {
     "name": "stderr",
     "output_type": "stream",
     "text": [
      "/Applications/anaconda/lib/python3.6/site-packages/ipykernel_launcher.py:23: SettingWithCopyWarning: \n",
      "A value is trying to be set on a copy of a slice from a DataFrame.\n",
      "Try using .loc[row_indexer,col_indexer] = value instead\n",
      "\n",
      "See the caveats in the documentation: http://pandas.pydata.org/pandas-docs/stable/indexing.html#indexing-view-versus-copy\n",
      "/Applications/anaconda/lib/python3.6/site-packages/seaborn/categorical.py:1428: FutureWarning: remove_na is deprecated and is a private function. Do not use.\n",
      "  stat_data = remove_na(group_data)\n"
     ]
    },
    {
     "data": {
      "text/plain": [
       "<matplotlib.axes._subplots.AxesSubplot at 0x1a1b8886d8>"
      ]
     },
     "execution_count": 26,
     "metadata": {},
     "output_type": "execute_result"
    },
    {
     "data": {
      "image/png": "[encoded data removed]",
      "text/plain": [
       "<Figure size 576x396 with 1 Axes>"
      ]
     },
     "metadata": {},
     "output_type": "display_data"
    }
   ],
   "source": [
    "#Fare Analysis\n",
    "temp08 = df[['Survived','Fare']]\n",
    "statistic = temp08.groupby(\"Survived\").Fare.describe()\n",
    "#sns.boxplot(data = temp08, x = 'Survived', y = 'Fare')\n",
    "#sns.barplot(data = temp08, x = 'Survived', y = 'Fare')\n",
    "\n",
    "# boxcox transformation\n",
    "trial01 = boxcox(temp08['Fare'][temp08['Fare']>0.0])\n",
    "\n",
    "# Grouping Fare\n",
    "maximum = max(temp08.Fare)\n",
    "minimum = min(temp08.Fare)\n",
    "L = 9\n",
    "group = {f\"group{i}\":((i+1)*(maximum-minimum)/L) for i in range(L)}\n",
    "print(group)\n",
    "def grouping(x):\n",
    "    for key in group.keys():\n",
    "        if x > group[key]:\n",
    "            continue\n",
    "        else:\n",
    "            return key\n",
    "\n",
    "temp08['Grouped_Fare'] = temp08.Fare.apply(grouping)\n",
    "total = temp08.groupby(\"Grouped_Fare\").Survived.count()\n",
    "print(total)\n",
    "barplot_survived_rate(temp08,\"Grouped_Fare\",\"Fare Group\")"
   ]
  },
  {
   "cell_type": "code",
   "execution_count": 27,
   "metadata": {},
   "outputs": [
    {
     "name": "stdout",
     "output_type": "stream",
     "text": [
      "{'group1': 7.7292, 'group2': 7.8958, 'group3': 8.6625, 'group4': 13.0, 'group5': 16.7, 'group6': 26.0, 'group7': 35.0, 'group8': 73.5, 'group9': 512.3292}\n"
     ]
    },
    {
     "name": "stderr",
     "output_type": "stream",
     "text": [
      "/Applications/anaconda/lib/python3.6/site-packages/ipykernel_launcher.py:20: SettingWithCopyWarning: \n",
      "A value is trying to be set on a copy of a slice from a DataFrame.\n",
      "Try using .loc[row_indexer,col_indexer] = value instead\n",
      "\n",
      "See the caveats in the documentation: http://pandas.pydata.org/pandas-docs/stable/indexing.html#indexing-view-versus-copy\n",
      "/Applications/anaconda/lib/python3.6/site-packages/seaborn/categorical.py:1428: FutureWarning: remove_na is deprecated and is a private function. Do not use.\n",
      "  stat_data = remove_na(group_data)\n"
     ]
    },
    {
     "data": {
      "text/plain": [
       "<matplotlib.axes._subplots.AxesSubplot at 0x1a1aa0f358>"
      ]
     },
     "execution_count": 27,
     "metadata": {},
     "output_type": "execute_result"
    },
    {
     "data": {
      "image/png": "[encoded data removed]",
      "text/plain": [
       "<Figure size 576x396 with 1 Axes>"
      ]
     },
     "metadata": {},
     "output_type": "display_data"
    }
   ],
   "source": [
    "sorted_Fare = sorted(temp08.Fare)\n",
    "length_Fare = len(temp08.Fare)\n",
    "L = 9\n",
    "k = int(length_Fare/L)\n",
    "grouping_q = {}\n",
    "for i in range(1,L+1):\n",
    "    if k*i <= length_Fare-1:\n",
    "        grouping_q[f'group{i}'] = sorted_Fare[k*i-1]\n",
    "    else:\n",
    "        grouping_q[f'group{i}'] = sorted_Fare[-1]\n",
    "\n",
    "def grouping_quantile(x):\n",
    "    for key in grouping_q.keys():\n",
    "        if x > grouping_q[key]:\n",
    "            continue\n",
    "        else:\n",
    "            return key\n",
    "\n",
    "print(grouping_q)\n",
    "temp08['Grouped_Fare_quantile'] = temp08.Fare.apply(grouping_quantile)\n",
    "total = temp08.groupby('Grouped_Fare_quantile').Survived.count()\n",
    "barplot_survived_rate(temp08,\"Grouped_Fare_quantile\",\"Fare Group\")"
   ]
  },
  {
   "cell_type": "code",
   "execution_count": 28,
   "metadata": {},
   "outputs": [
    {
     "name": "stdout",
     "output_type": "stream",
     "text": [
      "Grouped_Fare_quantile\n",
      "group1     99\n",
      "group2    124\n",
      "group3     85\n",
      "group4    120\n",
      "group5     68\n",
      "group6    100\n",
      "group7     97\n",
      "group8    101\n",
      "group9     97\n",
      "Name: Survived, dtype: int64\n"
     ]
    }
   ],
   "source": [
    "print(total)"
   ]
  },
  {
   "cell_type": "code",
   "execution_count": 29,
   "metadata": {},
   "outputs": [
    {
     "name": "stdout",
     "output_type": "stream",
     "text": [
      "Missing Data Proportion in this feature: 0.7710437710437711\n"
     ]
    }
   ],
   "source": [
    "#Cabin Analysis\n",
    "temp09 = df[[\"Survived\",\"Cabin\"]]\n",
    "temp09.shape\n",
    "print(\"Missing Data Proportion in this feature:\",temp09.Cabin.isnull().sum()/891)"
   ]
  },
  {
   "cell_type": "code",
   "execution_count": 30,
   "metadata": {},
   "outputs": [
    {
     "name": "stdout",
     "output_type": "stream",
     "text": [
      "Embarked\n",
      "C              168\n",
      "No Embarked      2\n",
      "Q               77\n",
      "S              644\n",
      "Name: Survived, dtype: int64\n"
     ]
    },
    {
     "name": "stderr",
     "output_type": "stream",
     "text": [
      "/Applications/anaconda/lib/python3.6/site-packages/pandas/core/frame.py:3798: SettingWithCopyWarning: \n",
      "A value is trying to be set on a copy of a slice from a DataFrame\n",
      "\n",
      "See the caveats in the documentation: http://pandas.pydata.org/pandas-docs/stable/indexing.html#indexing-view-versus-copy\n",
      "  method=method)\n",
      "/Applications/anaconda/lib/python3.6/site-packages/seaborn/categorical.py:1428: FutureWarning: remove_na is deprecated and is a private function. Do not use.\n",
      "  stat_data = remove_na(group_data)\n"
     ]
    },
    {
     "data": {
      "text/plain": [
       "<matplotlib.axes._subplots.AxesSubplot at 0x1a1b01ab70>"
      ]
     },
     "execution_count": 30,
     "metadata": {},
     "output_type": "execute_result"
    },
    {
     "data": {
      "image/png": "[encoded data removed]",
      "text/plain": [
       "<Figure size 576x396 with 1 Axes>"
      ]
     },
     "metadata": {},
     "output_type": "display_data"
    }
   ],
   "source": [
    "#Embarked Analysis\n",
    "temp10 = df[[\"Survived\",\"Embarked\"]]\n",
    "temp10.replace(np.NaN,'No Embarked',inplace=True)\n",
    "temp10.Embarked.unique()\n",
    "total = temp10.groupby(\"Embarked\").Survived.count()\n",
    "print(total)\n",
    "barplot_survived_rate(temp10,\"Embarked\",\"Port of Embarkation\")"
   ]
  },
  {
   "cell_type": "markdown",
   "metadata": {},
   "source": [
    "# Feature Engineering\n",
    "\n"
   ]
  },
  {
   "cell_type": "code",
   "execution_count": 31,
   "metadata": {},
   "outputs": [],
   "source": [
    "# One Hot features\n",
    "\n",
    "one_hot_pclass = pd.get_dummies(temp01['Pclass'])\n",
    "one_hot_title = pd.get_dummies(temp02['title'])\n",
    "one_hot_age = pd.get_dummies(temp05['Age'])\n",
    "one_hot_family_size = pd.get_dummies(temp06['family_size'])\n",
    "one_hot_grouped_ticket = pd.get_dummies(temp07['Grouped_ticket'])\n",
    "one_hot_grouped_fare_quantile = pd.get_dummies(temp08['Grouped_Fare_quantile'])\n",
    "one_hot_embarked = pd.get_dummies(temp10['Embarked'])\n",
    "\n"
   ]
  },
  {
   "cell_type": "code",
   "execution_count": 32,
   "metadata": {},
   "outputs": [],
   "source": [
    "# Concatenate all results\n",
    "\n",
    "results = pd.concat([temp01[\"Survived\"],\n",
    "                     one_hot_pclass,\n",
    "                     one_hot_title,\n",
    "                     temp03['Sex'],\n",
    "                     one_hot_age,\n",
    "                     one_hot_family_size,\n",
    "                     one_hot_grouped_ticket,\n",
    "                     one_hot_grouped_fare_quantile,\n",
    "                     one_hot_embarked\n",
    "                    ],axis=1)"
   ]
  },
  {
   "cell_type": "markdown",
   "metadata": {
    "collapsed": true
   },
   "source": [
    "results = pd.concat([temp01[\"Survived\"],\n",
    "                     temp01[\"Pclass\"],\n",
    "                     #temp02['title'],\n",
    "                     temp03['Sex'],\n",
    "                     temp05['Age'],\n",
    "                     temp06['family_size'],\n",
    "                     #temp06['Parch'],\n",
    "                     #temp06['SibSp'],\n",
    "                     #temp07[\"Grouped_ticket\"],\n",
    "                     #temp08['Grouped_Fare_quantile'],\n",
    "                     #temp10['Embarked']\n",
    "                    ],axis=1)"
   ]
  },
  {
   "cell_type": "code",
   "execution_count": 33,
   "metadata": {},
   "outputs": [
    {
     "data": {
      "text/html": [
       "<div>\n",
       "<style scoped>\n",
       "    .dataframe tbody tr th:only-of-type {\n",
       "        vertical-align: middle;\n",
       "    }\n",
       "\n",
       "    .dataframe tbody tr th {\n",
       "        vertical-align: top;\n",
       "    }\n",
       "\n",
       "    .dataframe thead th {\n",
       "        text-align: right;\n",
       "    }\n",
       "</style>\n",
       "<table border=\"1\" class=\"dataframe\">\n",
       "  <thead>\n",
       "    <tr style=\"text-align: right;\">\n",
       "      <th></th>\n",
       "      <th>Survived</th>\n",
       "      <th>1</th>\n",
       "      <th>2</th>\n",
       "      <th>3</th>\n",
       "      <th>Dr</th>\n",
       "      <th>Master</th>\n",
       "      <th>Mr</th>\n",
       "      <th>Mrs</th>\n",
       "      <th>Ms</th>\n",
       "      <th>Unclassified</th>\n",
       "      <th>...</th>\n",
       "      <th>group4</th>\n",
       "      <th>group5</th>\n",
       "      <th>group6</th>\n",
       "      <th>group7</th>\n",
       "      <th>group8</th>\n",
       "      <th>group9</th>\n",
       "      <th>C</th>\n",
       "      <th>No Embarked</th>\n",
       "      <th>Q</th>\n",
       "      <th>S</th>\n",
       "    </tr>\n",
       "    <tr>\n",
       "      <th>ID</th>\n",
       "      <th></th>\n",
       "      <th></th>\n",
       "      <th></th>\n",
       "      <th></th>\n",
       "      <th></th>\n",
       "      <th></th>\n",
       "      <th></th>\n",
       "      <th></th>\n",
       "      <th></th>\n",
       "      <th></th>\n",
       "      <th></th>\n",
       "      <th></th>\n",
       "      <th></th>\n",
       "      <th></th>\n",
       "      <th></th>\n",
       "      <th></th>\n",
       "      <th></th>\n",
       "      <th></th>\n",
       "      <th></th>\n",
       "      <th></th>\n",
       "      <th></th>\n",
       "    </tr>\n",
       "  </thead>\n",
       "  <tbody>\n",
       "    <tr>\n",
       "      <th>1</th>\n",
       "      <td>0</td>\n",
       "      <td>0</td>\n",
       "      <td>0</td>\n",
       "      <td>1</td>\n",
       "      <td>0</td>\n",
       "      <td>0</td>\n",
       "      <td>1</td>\n",
       "      <td>0</td>\n",
       "      <td>0</td>\n",
       "      <td>0</td>\n",
       "      <td>...</td>\n",
       "      <td>0</td>\n",
       "      <td>0</td>\n",
       "      <td>0</td>\n",
       "      <td>0</td>\n",
       "      <td>0</td>\n",
       "      <td>0</td>\n",
       "      <td>0</td>\n",
       "      <td>0</td>\n",
       "      <td>0</td>\n",
       "      <td>1</td>\n",
       "    </tr>\n",
       "    <tr>\n",
       "      <th>2</th>\n",
       "      <td>1</td>\n",
       "      <td>1</td>\n",
       "      <td>0</td>\n",
       "      <td>0</td>\n",
       "      <td>0</td>\n",
       "      <td>0</td>\n",
       "      <td>0</td>\n",
       "      <td>1</td>\n",
       "      <td>0</td>\n",
       "      <td>0</td>\n",
       "      <td>...</td>\n",
       "      <td>0</td>\n",
       "      <td>0</td>\n",
       "      <td>0</td>\n",
       "      <td>0</td>\n",
       "      <td>1</td>\n",
       "      <td>0</td>\n",
       "      <td>1</td>\n",
       "      <td>0</td>\n",
       "      <td>0</td>\n",
       "      <td>0</td>\n",
       "    </tr>\n",
       "    <tr>\n",
       "      <th>3</th>\n",
       "      <td>1</td>\n",
       "      <td>0</td>\n",
       "      <td>0</td>\n",
       "      <td>1</td>\n",
       "      <td>0</td>\n",
       "      <td>0</td>\n",
       "      <td>0</td>\n",
       "      <td>0</td>\n",
       "      <td>1</td>\n",
       "      <td>0</td>\n",
       "      <td>...</td>\n",
       "      <td>0</td>\n",
       "      <td>0</td>\n",
       "      <td>0</td>\n",
       "      <td>0</td>\n",
       "      <td>0</td>\n",
       "      <td>0</td>\n",
       "      <td>0</td>\n",
       "      <td>0</td>\n",
       "      <td>0</td>\n",
       "      <td>1</td>\n",
       "    </tr>\n",
       "    <tr>\n",
       "      <th>4</th>\n",
       "      <td>1</td>\n",
       "      <td>1</td>\n",
       "      <td>0</td>\n",
       "      <td>0</td>\n",
       "      <td>0</td>\n",
       "      <td>0</td>\n",
       "      <td>0</td>\n",
       "      <td>1</td>\n",
       "      <td>0</td>\n",
       "      <td>0</td>\n",
       "      <td>...</td>\n",
       "      <td>0</td>\n",
       "      <td>0</td>\n",
       "      <td>0</td>\n",
       "      <td>0</td>\n",
       "      <td>1</td>\n",
       "      <td>0</td>\n",
       "      <td>0</td>\n",
       "      <td>0</td>\n",
       "      <td>0</td>\n",
       "      <td>1</td>\n",
       "    </tr>\n",
       "    <tr>\n",
       "      <th>5</th>\n",
       "      <td>0</td>\n",
       "      <td>0</td>\n",
       "      <td>0</td>\n",
       "      <td>1</td>\n",
       "      <td>0</td>\n",
       "      <td>0</td>\n",
       "      <td>1</td>\n",
       "      <td>0</td>\n",
       "      <td>0</td>\n",
       "      <td>0</td>\n",
       "      <td>...</td>\n",
       "      <td>0</td>\n",
       "      <td>0</td>\n",
       "      <td>0</td>\n",
       "      <td>0</td>\n",
       "      <td>0</td>\n",
       "      <td>0</td>\n",
       "      <td>0</td>\n",
       "      <td>0</td>\n",
       "      <td>0</td>\n",
       "      <td>1</td>\n",
       "    </tr>\n",
       "  </tbody>\n",
       "</table>\n",
       "<p>5 rows × 51 columns</p>\n",
       "</div>"
      ],
      "text/plain": [
       "    Survived  1  2  3  Dr  Master  Mr  Mrs  Ms  Unclassified ... group4  \\\n",
       "ID                                                           ...          \n",
       "1          0  0  0  1   0       0   1    0   0             0 ...      0   \n",
       "2          1  1  0  0   0       0   0    1   0             0 ...      0   \n",
       "3          1  0  0  1   0       0   0    0   1             0 ...      0   \n",
       "4          1  1  0  0   0       0   0    1   0             0 ...      0   \n",
       "5          0  0  0  1   0       0   1    0   0             0 ...      0   \n",
       "\n",
       "    group5  group6  group7  group8  group9  C  No Embarked  Q  S  \n",
       "ID                                                                \n",
       "1        0       0       0       0       0  0            0  0  1  \n",
       "2        0       0       0       1       0  1            0  0  0  \n",
       "3        0       0       0       0       0  0            0  0  1  \n",
       "4        0       0       0       1       0  0            0  0  1  \n",
       "5        0       0       0       0       0  0            0  0  1  \n",
       "\n",
       "[5 rows x 51 columns]"
      ]
     },
     "execution_count": 33,
     "metadata": {},
     "output_type": "execute_result"
    }
   ],
   "source": [
    "results.head()"
   ]
  },
  {
   "cell_type": "code",
   "execution_count": 34,
   "metadata": {
    "collapsed": true
   },
   "outputs": [],
   "source": [
    "def numeric_sex(sex):\n",
    "    if sex == 'male':\n",
    "        return 1\n",
    "    else:\n",
    "        return 0\n",
    "\n",
    "results['Sex'] = results['Sex'].apply(numeric_sex)"
   ]
  },
  {
   "cell_type": "markdown",
   "metadata": {
    "collapsed": true
   },
   "source": [
    "result = pd.get_dummies(results,columns=[#'title',\n",
    "                                         'Age',\n",
    "                                         #'Embarked',\n",
    "                                         'Pclass',\n",
    "                                         #'Grouped_Fare_quantile',\n",
    "                                         'family_size',\n",
    "                                         #'Grouped_ticket'\n",
    "                                        ])"
   ]
  },
  {
   "cell_type": "code",
   "execution_count": 36,
   "metadata": {},
   "outputs": [
    {
     "data": {
      "text/plain": [
       "(891, 51)"
      ]
     },
     "execution_count": 36,
     "metadata": {},
     "output_type": "execute_result"
    }
   ],
   "source": [
    "results.shape"
   ]
  },
  {
   "cell_type": "code",
   "execution_count": 23,
   "metadata": {
    "collapsed": true
   },
   "outputs": [],
   "source": [
    "#result.drop(labels=[\"Embarked_No Embarked\"],axis=1,inplace=True)"
   ]
  },
  {
   "cell_type": "code",
   "execution_count": null,
   "metadata": {},
   "outputs": [],
   "source": []
  },
  {
   "cell_type": "code",
   "execution_count": 38,
   "metadata": {},
   "outputs": [],
   "source": [
    "# output cleaned DataFrame to 'cleaneddata.csv'\n",
    "results.to_csv('cleaneddata.csv',index=False)"
   ]
  },
  {
   "cell_type": "code",
   "execution_count": null,
   "metadata": {
    "collapsed": true
   },
   "outputs": [],
   "source": []
  },
  {
   "cell_type": "code",
   "execution_count": null,
   "metadata": {
    "collapsed": true
   },
   "outputs": [],
   "source": []
  }
 ],
 "metadata": {
  "kernelspec": {
   "display_name": "Python 3",
   "language": "python",
   "name": "python3"
  },
  "language_info": {
   "codemirror_mode": {
    "name": "ipython",
    "version": 3
   },
   "file_extension": ".py",
   "mimetype": "text/x-python",
   "name": "python",
   "nbconvert_exporter": "python",
   "pygments_lexer": "ipython3",
   "version": "3.6.5"
  }
 },
 "nbformat": 4,
 "nbformat_minor": 2
}
