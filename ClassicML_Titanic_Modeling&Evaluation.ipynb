{
 "cells": [
  {
   "cell_type": "code",
   "execution_count": 2,
   "metadata": {},
   "outputs": [],
   "source": [
    "import pandas as pd\n",
    "from sklearn.pipeline import make_pipeline\n",
    "from sklearn.model_selection import GridSearchCV\n",
    "from sklearn.ensemble import RandomForestClassifier, GradientBoostingClassifier\n",
    "from sklearn.metrics import accuracy_score\n",
    "from sklearn.cross_validation import train_test_split\n",
    "from sklearn.model_selection import KFold\n",
    "import numpy as np\n",
    "from sklearn.neural_network import MLPClassifier\n",
    "from sklearn.svm import SVC"
   ]
  },
  {
   "cell_type": "code",
   "execution_count": 3,
   "metadata": {
    "collapsed": true
   },
   "outputs": [],
   "source": [
    "df = pd.read_csv('cleaneddata.csv')\n",
    "\n",
    "X = df.iloc[:,1:]\n",
    "Y = df.iloc[:,0]\n",
    "\n",
    "X_train, X_test, Y_train, Y_test = train_test_split(X,Y,test_size=0.3)"
   ]
  },
  {
   "cell_type": "code",
   "execution_count": 4,
   "metadata": {},
   "outputs": [
    {
     "data": {
      "text/plain": [
       "(891, 51)"
      ]
     },
     "execution_count": 4,
     "metadata": {},
     "output_type": "execute_result"
    }
   ],
   "source": [
    "df.shape"
   ]
  },
  {
   "cell_type": "code",
   "execution_count": 5,
   "metadata": {},
   "outputs": [
    {
     "data": {
      "text/plain": [
       "RandomForestClassifier(bootstrap=True, class_weight=None, criterion='gini',\n",
       "            max_depth=None, max_features='auto', max_leaf_nodes=None,\n",
       "            min_impurity_decrease=0.0, min_impurity_split=None,\n",
       "            min_samples_leaf=1, min_samples_split=2,\n",
       "            min_weight_fraction_leaf=0.0, n_estimators=10, n_jobs=1,\n",
       "            oob_score=False, random_state=None, verbose=0,\n",
       "            warm_start=False)"
      ]
     },
     "execution_count": 5,
     "metadata": {},
     "output_type": "execute_result"
    }
   ],
   "source": [
    "clf_rf = RandomForestClassifier(n_estimators=10)\n",
    "clf_rf.fit(X_train,Y_train)"
   ]
  },
  {
   "cell_type": "code",
   "execution_count": 6,
   "metadata": {},
   "outputs": [
    {
     "data": {
      "text/plain": [
       "0.9085072231139647"
      ]
     },
     "execution_count": 6,
     "metadata": {},
     "output_type": "execute_result"
    }
   ],
   "source": [
    "clf_rf.score(X_train,Y_train)"
   ]
  },
  {
   "cell_type": "code",
   "execution_count": 7,
   "metadata": {},
   "outputs": [
    {
     "data": {
      "text/plain": [
       "0.8208955223880597"
      ]
     },
     "execution_count": 7,
     "metadata": {},
     "output_type": "execute_result"
    }
   ],
   "source": [
    "clf_rf.score(X_test,Y_test)"
   ]
  },
  {
   "cell_type": "code",
   "execution_count": 8,
   "metadata": {},
   "outputs": [
    {
     "name": "stdout",
     "output_type": "stream",
     "text": [
      "train score:  0.9039900249376559\n",
      "cross-validation score:  0.8764044943820225\n",
      "train score:  0.9226932668329177\n",
      "cross-validation score:  0.7528089887640449\n"
     ]
    }
   ],
   "source": [
    "# Perform KFold on RandomForest Classifier\n",
    "\n",
    "df = pd.read_csv('cleaneddata.csv')\n",
    "\n",
    "X = df.iloc[:,1:]\n",
    "Y = df.iloc[:,0]\n",
    "\n",
    "score_train = [0]\n",
    "score_cv = [0]\n",
    "\n",
    "parameters = {\"n_estimators\":[10,100],\n",
    "             \"criterion\":(\"gini\",\"entropy\"),\n",
    "             #\"max_features\":('auto'),\n",
    "             \"n_jobs\":[1,10]}\n",
    "\n",
    "kf = KFold(n_splits=10, shuffle=True)\n",
    "for train_index,test_index in kf.split(X):\n",
    "    X_train, X_test = X.iloc[train_index,:], X.iloc[test_index,:]\n",
    "    Y_train, Y_test = Y[train_index], Y[test_index]\n",
    "    rf = RandomForestClassifier()\n",
    "    clf_rf = GridSearchCV(rf,parameters)\n",
    "    clf_rf.fit(X_train,Y_train)\n",
    "    if clf_rf.score(X_test,Y_test) > max(score_cv):\n",
    "        most_accurate = clf_rf.predict\n",
    "    score_train.append(clf_rf.score(X_train,Y_train))\n",
    "    score_cv.append(clf_rf.score(X_test,Y_test))\n",
    "\n",
    "score_train,score_cv = np.array(score_train),np.array(score_cv)\n",
    "print('train score: ',score_train[score_cv.argmax()])\n",
    "print('cross-validation score: ',score_cv.max())\n",
    "\n",
    "\n",
    "print(\"train score: \",score_train.max())\n",
    "print(\"cross-validation score: \",score_cv[score_train.argmax()])\n"
   ]
  },
  {
   "cell_type": "code",
   "execution_count": 9,
   "metadata": {
    "collapsed": true
   },
   "outputs": [],
   "source": [
    "df_predict = pd.read_csv('cleaneddata_test.csv')\n",
    "\n",
    "predict = most_accurate(df_predict)\n",
    "\n",
    "PassengerId = np.arange(892,1310)\n",
    "\n",
    "result = pd.DataFrame(PassengerId,columns=['PassengerId'])\n",
    "\n",
    "result[\"Survived\"] = pd.Series(predict)\n",
    "result.to_csv('submit_rf.csv',index=False)"
   ]
  },
  {
   "cell_type": "code",
   "execution_count": null,
   "metadata": {
    "collapsed": true
   },
   "outputs": [],
   "source": []
  },
  {
   "cell_type": "code",
   "execution_count": 10,
   "metadata": {},
   "outputs": [
    {
     "name": "stdout",
     "output_type": "stream",
     "text": [
      "train score:  0.830423940149626\n",
      "cross-validation score:  0.8764044943820225\n",
      "train score:  0.9201995012468828\n",
      "cross-validation score:  0.7752808988764045\n"
     ]
    }
   ],
   "source": [
    "# Perform KFold on Gradient Boosting Classifier\n",
    "\n",
    "df = pd.read_csv('cleaneddata.csv')\n",
    "\n",
    "X = df.iloc[:,1:]\n",
    "Y = df.iloc[:,0]\n",
    "\n",
    "score_train = [0]\n",
    "score_cv = [0]\n",
    "most_accurate = 0\n",
    "\n",
    "parameters = {\"loss\":(\"deviance\",\"exponential\"),\n",
    "              \"learning_rate\":[0.01,1],\n",
    "              \"n_estimators\":[90,150]}\n",
    "\n",
    "kf = KFold(n_splits=10)\n",
    "for train_index,test_index in kf.split(X):\n",
    "    X_train, X_test = X.iloc[train_index,:], X.iloc[test_index,:]\n",
    "    Y_train, Y_test = Y[train_index], Y[test_index]\n",
    "    gb = GradientBoostingClassifier()\n",
    "    clf_gb = GridSearchCV(gb,parameters)\n",
    "    clf_gb.fit(X_train,Y_train)\n",
    "    if clf_gb.score(X_test,Y_test) > max(score_cv):\n",
    "        most_accurate = clf_gb.predict\n",
    "    score_train.append(clf_gb.score(X_train,Y_train))\n",
    "    score_cv.append(clf_gb.score(X_test,Y_test))\n",
    "    \n",
    "    \n",
    "score_train,score_cv = np.array(score_train),np.array(score_cv)\n",
    "print('train score: ',score_train[score_cv.argmax()])\n",
    "print('cross-validation score: ',score_cv.max())\n",
    "\n",
    "\n",
    "print(\"train score: \",score_train.max())\n",
    "print(\"cross-validation score: \",score_cv[score_train.argmax()])\n"
   ]
  },
  {
   "cell_type": "code",
   "execution_count": 11,
   "metadata": {
    "collapsed": true
   },
   "outputs": [],
   "source": [
    "df_predict = pd.read_csv('cleaneddata_test.csv')\n",
    "\n",
    "predict = most_accurate(df_predict)\n",
    "\n",
    "PassengerId = np.arange(892,1310)\n",
    "\n",
    "result = pd.DataFrame(PassengerId,columns=['PassengerId'])\n",
    "\n",
    "result[\"Survived\"] = pd.Series(predict)\n",
    "result.to_csv('submit_gb.csv',index=False)"
   ]
  },
  {
   "cell_type": "markdown",
   "metadata": {},
   "source": [
    "# Perform KFold on Neural Network\n",
    "\n",
    "df = pd.read_csv('cleaneddata.csv')\n",
    "\n",
    "X = df.iloc[:,1:]\n",
    "Y = df.iloc[:,0]\n",
    "\n",
    "score_train = []\n",
    "score_cv = []\n",
    "\n",
    "kf = KFold(n_splits=9, shuffle=True)\n",
    "for train_index,test_index in kf.split(X):\n",
    "    X_train, X_test = X.iloc[train_index,:], X.iloc[test_index,:]\n",
    "    Y_train, Y_test = Y[train_index], Y[test_index]\n",
    "    clf_mlp = MLPClassifier(solver='lbfgs')\n",
    "    clf_mlp.fit(X_train,Y_train)\n",
    "    score_train.append(clf_mlp.score(X_train,Y_train))\n",
    "    score_cv.append(clf_mlp.score(X_test,Y_test))\n",
    "    \n",
    "score_train,score_cv = np.array(score_train),np.array(score_cv)\n",
    "print('train score: ',score_train.mean(),'cross-validation score: ',score_cv.mean())"
   ]
  },
  {
   "cell_type": "code",
   "execution_count": null,
   "metadata": {
    "collapsed": true
   },
   "outputs": [],
   "source": []
  },
  {
   "cell_type": "code",
   "execution_count": null,
   "metadata": {
    "collapsed": true
   },
   "outputs": [],
   "source": [
    "# Perform KFold and GridSearch on SVC\n",
    "\n",
    "df = pd.read_csv('cleaneddata.csv')\n",
    "\n",
    "X = df.iloc[:,1:]\n",
    "Y = df.iloc[:,0]\n",
    "\n",
    "score_train = [0]\n",
    "score_cv = [0]\n",
    "parameters = {\"kernel\":(\"linear\",\"poly\",\"rbf\",\"sigmoid\"),\n",
    "              \"C\":[1,10],\n",
    "             \"degree\":[1,10]}\n",
    "\n",
    "kf = KFold(n_splits=10, shuffle=True)\n",
    "for train_index,test_index in kf.split(X):\n",
    "    X_train, X_test = X.iloc[train_index,:], X.iloc[test_index,:]\n",
    "    Y_train, Y_test = Y[train_index], Y[test_index]\n",
    "    svc = SVC()\n",
    "    clf_svc = GridSearchCV(svc,parameters)\n",
    "    clf_svc.fit(X_train,Y_train)\n",
    "    if clf_svc.score(X_test,Y_test) > max(score_cv):\n",
    "        most_accurate = clf_svc.predict\n",
    "    score_train.append(clf_svc.score(X_train,Y_train))\n",
    "    score_cv.append(clf_svc.score(X_test,Y_test))\n",
    "    \n",
    "score_train,score_cv = np.array(score_train),np.array(score_cv)\n",
    "print('cross-validation score: ',score_cv.max())\n"
   ]
  },
  {
   "cell_type": "code",
   "execution_count": null,
   "metadata": {
    "collapsed": true
   },
   "outputs": [],
   "source": [
    "\n",
    "df_predict = pd.read_csv('cleaneddata_test.csv')\n",
    "\n",
    "predict = most_accurate(df_predict)\n",
    "\n",
    "PassengerId = np.arange(892,1310)\n",
    "\n",
    "result = pd.DataFrame(PassengerId,columns=['PassengerId'])\n",
    "\n",
    "result[\"Survived\"] = pd.Series(predict)\n",
    "result.to_csv('submit_svc.csv',index=False)"
   ]
  },
  {
   "cell_type": "code",
   "execution_count": null,
   "metadata": {
    "collapsed": true
   },
   "outputs": [],
   "source": []
  },
  {
   "cell_type": "code",
   "execution_count": null,
   "metadata": {
    "collapsed": true
   },
   "outputs": [],
   "source": []
  },
  {
   "cell_type": "code",
   "execution_count": null,
   "metadata": {
    "collapsed": true
   },
   "outputs": [],
   "source": []
  }
 ],
 "metadata": {
  "kernelspec": {
   "display_name": "Python 3",
   "language": "python",
   "name": "python3"
  },
  "language_info": {
   "codemirror_mode": {
    "name": "ipython",
    "version": 3
   },
   "file_extension": ".py",
   "mimetype": "text/x-python",
   "name": "python",
   "nbconvert_exporter": "python",
   "pygments_lexer": "ipython3",
   "version": "3.6.5"
  }
 },
 "nbformat": 4,
 "nbformat_minor": 2
}
