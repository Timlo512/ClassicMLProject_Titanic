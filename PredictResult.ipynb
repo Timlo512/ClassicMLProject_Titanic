{
 "cells": [
  {
   "cell_type": "code",
   "execution_count": 1,
   "metadata": {},
   "outputs": [
    {
     "name": "stderr",
     "output_type": "stream",
     "text": [
      "/Applications/anaconda/lib/python3.6/site-packages/sklearn/cross_validation.py:41: DeprecationWarning: This module was deprecated in version 0.18 in favor of the model_selection module into which all the refactored classes and functions are moved. Also note that the interface of the new CV iterators are different from that of this module. This module will be removed in 0.20.\n",
      "  \"This module will be removed in 0.20.\", DeprecationWarning)\n"
     ]
    }
   ],
   "source": [
    "# import packages\n",
    "import numpy as np\n",
    "import pandas as pd\n",
    "import matplotlib.pyplot as plt\n",
    "import seaborn as sns\n",
    "from util_plot import barplot_survived_rate\n",
    "import re\n",
    "\n",
    "%matplotlib inline\n",
    "sns.set(color_codes = True)\n",
    "plt.figure.rcParams = 13,8\n",
    "\n",
    "%load_ext autoreload\n",
    "%autoreload 2\n",
    "\n",
    "from sklearn.pipeline import make_pipeline\n",
    "from sklearn.model_selection import GridSearchCV\n",
    "from sklearn.ensemble import RandomForestClassifier, GradientBoostingClassifier\n",
    "from sklearn.metrics import accuracy_score\n",
    "from sklearn.cross_validation import train_test_split\n",
    "from sklearn.model_selection import KFold\n",
    "from sklearn.neural_network import MLPClassifier\n",
    "from sklearn.svm import SVC"
   ]
  },
  {
   "cell_type": "code",
   "execution_count": 2,
   "metadata": {
    "collapsed": true
   },
   "outputs": [],
   "source": [
    "df = pd.read_csv('test.csv')"
   ]
  },
  {
   "cell_type": "code",
   "execution_count": 3,
   "metadata": {},
   "outputs": [
    {
     "data": {
      "text/html": [
       "<div>\n",
       "<style scoped>\n",
       "    .dataframe tbody tr th:only-of-type {\n",
       "        vertical-align: middle;\n",
       "    }\n",
       "\n",
       "    .dataframe tbody tr th {\n",
       "        vertical-align: top;\n",
       "    }\n",
       "\n",
       "    .dataframe thead th {\n",
       "        text-align: right;\n",
       "    }\n",
       "</style>\n",
       "<table border=\"1\" class=\"dataframe\">\n",
       "  <thead>\n",
       "    <tr style=\"text-align: right;\">\n",
       "      <th></th>\n",
       "      <th>PassengerId</th>\n",
       "      <th>Pclass</th>\n",
       "      <th>Name</th>\n",
       "      <th>Sex</th>\n",
       "      <th>Age</th>\n",
       "      <th>SibSp</th>\n",
       "      <th>Parch</th>\n",
       "      <th>Ticket</th>\n",
       "      <th>Fare</th>\n",
       "      <th>Cabin</th>\n",
       "      <th>Embarked</th>\n",
       "    </tr>\n",
       "  </thead>\n",
       "  <tbody>\n",
       "    <tr>\n",
       "      <th>0</th>\n",
       "      <td>892</td>\n",
       "      <td>3</td>\n",
       "      <td>Kelly, Mr. James</td>\n",
       "      <td>male</td>\n",
       "      <td>34.5</td>\n",
       "      <td>0</td>\n",
       "      <td>0</td>\n",
       "      <td>330911</td>\n",
       "      <td>7.8292</td>\n",
       "      <td>NaN</td>\n",
       "      <td>Q</td>\n",
       "    </tr>\n",
       "    <tr>\n",
       "      <th>1</th>\n",
       "      <td>893</td>\n",
       "      <td>3</td>\n",
       "      <td>Wilkes, Mrs. James (Ellen Needs)</td>\n",
       "      <td>female</td>\n",
       "      <td>47.0</td>\n",
       "      <td>1</td>\n",
       "      <td>0</td>\n",
       "      <td>363272</td>\n",
       "      <td>7.0000</td>\n",
       "      <td>NaN</td>\n",
       "      <td>S</td>\n",
       "    </tr>\n",
       "    <tr>\n",
       "      <th>2</th>\n",
       "      <td>894</td>\n",
       "      <td>2</td>\n",
       "      <td>Myles, Mr. Thomas Francis</td>\n",
       "      <td>male</td>\n",
       "      <td>62.0</td>\n",
       "      <td>0</td>\n",
       "      <td>0</td>\n",
       "      <td>240276</td>\n",
       "      <td>9.6875</td>\n",
       "      <td>NaN</td>\n",
       "      <td>Q</td>\n",
       "    </tr>\n",
       "    <tr>\n",
       "      <th>3</th>\n",
       "      <td>895</td>\n",
       "      <td>3</td>\n",
       "      <td>Wirz, Mr. Albert</td>\n",
       "      <td>male</td>\n",
       "      <td>27.0</td>\n",
       "      <td>0</td>\n",
       "      <td>0</td>\n",
       "      <td>315154</td>\n",
       "      <td>8.6625</td>\n",
       "      <td>NaN</td>\n",
       "      <td>S</td>\n",
       "    </tr>\n",
       "    <tr>\n",
       "      <th>4</th>\n",
       "      <td>896</td>\n",
       "      <td>3</td>\n",
       "      <td>Hirvonen, Mrs. Alexander (Helga E Lindqvist)</td>\n",
       "      <td>female</td>\n",
       "      <td>22.0</td>\n",
       "      <td>1</td>\n",
       "      <td>1</td>\n",
       "      <td>3101298</td>\n",
       "      <td>12.2875</td>\n",
       "      <td>NaN</td>\n",
       "      <td>S</td>\n",
       "    </tr>\n",
       "  </tbody>\n",
       "</table>\n",
       "</div>"
      ],
      "text/plain": [
       "   PassengerId  Pclass                                          Name     Sex  \\\n",
       "0          892       3                              Kelly, Mr. James    male   \n",
       "1          893       3              Wilkes, Mrs. James (Ellen Needs)  female   \n",
       "2          894       2                     Myles, Mr. Thomas Francis    male   \n",
       "3          895       3                              Wirz, Mr. Albert    male   \n",
       "4          896       3  Hirvonen, Mrs. Alexander (Helga E Lindqvist)  female   \n",
       "\n",
       "    Age  SibSp  Parch   Ticket     Fare Cabin Embarked  \n",
       "0  34.5      0      0   330911   7.8292   NaN        Q  \n",
       "1  47.0      1      0   363272   7.0000   NaN        S  \n",
       "2  62.0      0      0   240276   9.6875   NaN        Q  \n",
       "3  27.0      0      0   315154   8.6625   NaN        S  \n",
       "4  22.0      1      1  3101298  12.2875   NaN        S  "
      ]
     },
     "execution_count": 3,
     "metadata": {},
     "output_type": "execute_result"
    }
   ],
   "source": [
    "df.head()"
   ]
  },
  {
   "cell_type": "code",
   "execution_count": 31,
   "metadata": {},
   "outputs": [
    {
     "name": "stdout",
     "output_type": "stream",
     "text": [
      "Pclass\n",
      "1    107\n",
      "2     93\n",
      "3    218\n",
      "Name: PassengerId, dtype: int64 Pclass\n",
      "1    0.255981\n",
      "2    0.222488\n",
      "3    0.521531\n",
      "Name: PassengerId, dtype: float64\n"
     ]
    }
   ],
   "source": [
    "# Feature Engineering on Pclass\n",
    "temp01 = df[['Pclass','PassengerId']]\n",
    "total = temp01.groupby('Pclass').PassengerId.count()\n",
    "Proportion = total/total.sum()\n",
    "print(total,Proportion)"
   ]
  },
  {
   "cell_type": "code",
   "execution_count": 33,
   "metadata": {},
   "outputs": [
    {
     "name": "stdout",
     "output_type": "stream",
     "text": [
      "title\n",
      "Dr                3\n",
      "Master           20\n",
      "Mr              240\n",
      "Mrs              72\n",
      "Ms               78\n",
      "Unclassified      5\n",
      "Name: PassengerId, dtype: int64 title\n",
      "Dr              0.007177\n",
      "Master          0.047847\n",
      "Mr              0.574163\n",
      "Mrs             0.172249\n",
      "Ms              0.186603\n",
      "Unclassified    0.011962\n",
      "Name: PassengerId, dtype: float64\n"
     ]
    },
    {
     "name": "stderr",
     "output_type": "stream",
     "text": [
      "/Applications/anaconda/lib/python3.6/site-packages/ipykernel_launcher.py:31: SettingWithCopyWarning: \n",
      "A value is trying to be set on a copy of a slice from a DataFrame.\n",
      "Try using .loc[row_indexer,col_indexer] = value instead\n",
      "\n",
      "See the caveats in the documentation: http://pandas.pydata.org/pandas-docs/stable/indexing.html#indexing-view-versus-copy\n"
     ]
    }
   ],
   "source": [
    "# Feature Engineering on Name\n",
    "temp02 = df[['Name','PassengerId']]\n",
    "\n",
    "titles = ['Mr','Ms',\"Mrs\",'Dr','Miss','Master','Major']\n",
    "for name in temp02.Name:\n",
    "    check = False\n",
    "    for i in titles:\n",
    "        if i in name:\n",
    "            check = True\n",
    "    if not check:\n",
    "        continue\n",
    "\n",
    "# Extract title from name\n",
    "titles_dict = {\n",
    "    'Ms' : 'Ms',\n",
    "    'Mrs': 'Mrs',\n",
    "    'Mr' : 'Mr',\n",
    "    'Dr' : 'Dr',\n",
    "    'Miss': 'Ms',\n",
    "    'Master': 'Master'\n",
    "}\n",
    "def extract_title(name):\n",
    "    check = False\n",
    "    for title in titles_dict.keys():\n",
    "        if title in name:\n",
    "            check = True\n",
    "            return titles_dict[title]\n",
    "    if not check:\n",
    "        return 'Unclassified'\n",
    "    \n",
    "temp02['title'] = temp02['Name'].apply(extract_title)\n",
    "\n",
    "total = temp02.groupby('title').PassengerId.count()\n",
    "\n",
    "Proportion = total/total.sum()\n",
    "\n",
    "print(total,Proportion)\n"
   ]
  },
  {
   "cell_type": "code",
   "execution_count": 42,
   "metadata": {},
   "outputs": [
    {
     "name": "stdout",
     "output_type": "stream",
     "text": [
      "Sex\n",
      "0    152\n",
      "1    266\n",
      "Name: PassengerId, dtype: int64 Sex\n",
      "0    0.363636\n",
      "1    0.636364\n",
      "Name: PassengerId, dtype: float64\n"
     ]
    },
    {
     "name": "stderr",
     "output_type": "stream",
     "text": [
      "/Applications/anaconda/lib/python3.6/site-packages/ipykernel_launcher.py:9: SettingWithCopyWarning: \n",
      "A value is trying to be set on a copy of a slice from a DataFrame.\n",
      "Try using .loc[row_indexer,col_indexer] = value instead\n",
      "\n",
      "See the caveats in the documentation: http://pandas.pydata.org/pandas-docs/stable/indexing.html#indexing-view-versus-copy\n",
      "  if __name__ == '__main__':\n"
     ]
    }
   ],
   "source": [
    "# Feature Engineering on Sex\n",
    "temp03 = df[['Sex','PassengerId']]\n",
    "def numeric_sex(sex):\n",
    "    if sex == 'male':\n",
    "        return 1\n",
    "    else:\n",
    "        return 0\n",
    "\n",
    "temp03['Sex'] = temp03['Sex'].apply(numeric_sex)\n",
    "total = temp03.groupby('Sex').PassengerId.count()\n",
    "proportion = total/total.sum()\n",
    "print(total,proportion)\n"
   ]
  },
  {
   "cell_type": "code",
   "execution_count": 37,
   "metadata": {},
   "outputs": [
    {
     "name": "stdout",
     "output_type": "stream",
     "text": [
      "Age\n",
      "Unclassified     86\n",
      "adult           257\n",
      "elder            14\n",
      "teenage          61\n",
      "Name: PassengerId, dtype: int64 Age\n",
      "Unclassified    0.205742\n",
      "adult           0.614833\n",
      "elder           0.033493\n",
      "teenage         0.145933\n",
      "Name: PassengerId, dtype: float64\n"
     ]
    },
    {
     "name": "stderr",
     "output_type": "stream",
     "text": [
      "/Applications/anaconda/lib/python3.6/site-packages/ipykernel_launcher.py:19: SettingWithCopyWarning: \n",
      "A value is trying to be set on a copy of a slice from a DataFrame.\n",
      "Try using .loc[row_indexer,col_indexer] = value instead\n",
      "\n",
      "See the caveats in the documentation: http://pandas.pydata.org/pandas-docs/stable/indexing.html#indexing-view-versus-copy\n"
     ]
    }
   ],
   "source": [
    "# Feature Engineering on Age\n",
    "temp04 = df[['Age','PassengerId']]\n",
    "\n",
    "def divide_age(age):\n",
    "    \"\"\"\n",
    "    Definition of age group\n",
    "        teenage: 0 <= age < 20\n",
    "        young adult: 20 <= age <40\n",
    "        adult: 40 <= age < 60\n",
    "        elder: 60 <= age < 81\n",
    "    \"\"\"\n",
    "    age_group = {'teenage':(0,20),'adult':(20,60),'elder':(60,81)}\n",
    "    for i,j in age_group.items():\n",
    "        if age >= j[0] and age < j[1]:\n",
    "            return i\n",
    "    else:\n",
    "        return 'Unclassified'\n",
    "    \n",
    "temp04['Age'] = temp04['Age'].apply(divide_age)\n",
    "total = temp04.groupby('Age').PassengerId.count()\n",
    "proportion = total/total.sum()\n",
    "print(total,proportion)"
   ]
  },
  {
   "cell_type": "code",
   "execution_count": 8,
   "metadata": {},
   "outputs": [
    {
     "name": "stdout",
     "output_type": "stream",
     "text": [
      "family_size\n",
      "0     253\n",
      "1      74\n",
      "2      57\n",
      "3      14\n",
      "4       7\n",
      "5       3\n",
      "6       4\n",
      "7       2\n",
      "10      4\n",
      "Name: PassengerId, dtype: int64 family_size\n",
      "0     0.605263\n",
      "1     0.177033\n",
      "2     0.136364\n",
      "3     0.033493\n",
      "4     0.016746\n",
      "5     0.007177\n",
      "6     0.009569\n",
      "7     0.004785\n",
      "10    0.009569\n",
      "Name: PassengerId, dtype: float64\n"
     ]
    },
    {
     "name": "stderr",
     "output_type": "stream",
     "text": [
      "/Applications/anaconda/lib/python3.6/site-packages/ipykernel_launcher.py:4: SettingWithCopyWarning: \n",
      "A value is trying to be set on a copy of a slice from a DataFrame.\n",
      "Try using .loc[row_indexer,col_indexer] = value instead\n",
      "\n",
      "See the caveats in the documentation: http://pandas.pydata.org/pandas-docs/stable/indexing.html#indexing-view-versus-copy\n",
      "  after removing the cwd from sys.path.\n"
     ]
    }
   ],
   "source": [
    "# Feature Engineering on Sibling and parch\n",
    "\n",
    "temp05 = df[['PassengerId','SibSp','Parch']]\n",
    "temp05['family_size'] = temp05['SibSp'] + temp05['Parch']\n",
    "total = temp05.groupby('family_size').PassengerId.count()\n",
    "proportion = total/total.sum()\n",
    "print(total,proportion)\n",
    "\n",
    "def group_large(x):\n",
    "    if x > 6:\n",
    "        return '>6'\n",
    "    else:\n",
    "        return x\n",
    "    \n",
    "temp05['family_size'] = temp05['family_size'].apply(group_large)"
   ]
  },
  {
   "cell_type": "code",
   "execution_count": 27,
   "metadata": {},
   "outputs": [
    {
     "name": "stdout",
     "output_type": "stream",
     "text": [
      "Grouped_ticket\n",
      "Num 1         64\n",
      "Num 2         95\n",
      "Num 3        129\n",
      "Num 4          1\n",
      "Num 6          3\n",
      "Num 7          4\n",
      "Num 9          1\n",
      "initial A     13\n",
      "initial C     30\n",
      "initial F      6\n",
      "initial P     33\n",
      "initial S     33\n",
      "initial W      6\n",
      "Name: PassengerId, dtype: int64 Grouped_ticket\n",
      "Num 1        0.153110\n",
      "Num 2        0.227273\n",
      "Num 3        0.308612\n",
      "Num 4        0.002392\n",
      "Num 6        0.007177\n",
      "Num 7        0.009569\n",
      "Num 9        0.002392\n",
      "initial A    0.031100\n",
      "initial C    0.071770\n",
      "initial F    0.014354\n",
      "initial P    0.078947\n",
      "initial S    0.078947\n",
      "initial W    0.014354\n",
      "Name: PassengerId, dtype: float64\n"
     ]
    },
    {
     "name": "stderr",
     "output_type": "stream",
     "text": [
      "/Applications/anaconda/lib/python3.6/site-packages/ipykernel_launcher.py:104: SettingWithCopyWarning: \n",
      "A value is trying to be set on a copy of a slice from a DataFrame.\n",
      "Try using .loc[row_indexer,col_indexer] = value instead\n",
      "\n",
      "See the caveats in the documentation: http://pandas.pydata.org/pandas-docs/stable/indexing.html#indexing-view-versus-copy\n",
      "/Applications/anaconda/lib/python3.6/site-packages/pandas/core/generic.py:5886: SettingWithCopyWarning: \n",
      "A value is trying to be set on a copy of a slice from a DataFrame\n",
      "\n",
      "See the caveats in the documentation: http://pandas.pydata.org/pandas-docs/stable/indexing.html#indexing-view-versus-copy\n",
      "  self._update_inplace(new_data)\n"
     ]
    }
   ],
   "source": [
    "# Feature Engineering on Ticket\n",
    "temp06 = df[['PassengerId','Ticket']]\n",
    "def isnumeric(x):\n",
    "    return x.isnumeric()\n",
    "\n",
    "def notnumeric(x):\n",
    "    return not x.isnumeric()\n",
    "\n",
    "def grouping(x):\n",
    "    \n",
    "    def group_num(x):\n",
    "        \"\"\"\n",
    "        Group by first three numbers\n",
    "        \"\"\"\n",
    "        if x[:3].isnumeric():\n",
    "            num = f\"Num {x[0]}\"\n",
    "            return num, True\n",
    "        else:\n",
    "            return None,False\n",
    "        \n",
    "    def group_A(x):\n",
    "        \"\"\"\n",
    "        Group by A initial\n",
    "        \"\"\"\n",
    "        d = re.search(r'^A.*',x)\n",
    "        if d:\n",
    "            return 'initial A', True\n",
    "        else:\n",
    "            return None,False\n",
    "    \n",
    "    def group_C(x):\n",
    "        \"\"\"\n",
    "        Group by C initial\n",
    "        \"\"\"\n",
    "        d = re.search(r'^C.*',x)\n",
    "        if d:\n",
    "            return 'initial C', True\n",
    "        else:\n",
    "            return None,False\n",
    "    \n",
    "    def group_F(x):\n",
    "        \"\"\"\n",
    "        Group by F initial\n",
    "        \"\"\"\n",
    "        d = re.search(r'^F.*',x)\n",
    "        if d:\n",
    "            return 'initial F', True\n",
    "        else:\n",
    "            return None,False\n",
    "    \n",
    "    def group_P(x):\n",
    "        \"\"\"\n",
    "        Group by P initial\n",
    "        \"\"\"\n",
    "        d = re.search(r'^P.*',x)\n",
    "        if d:\n",
    "            return 'initial P', True\n",
    "        else:\n",
    "            return None,False\n",
    "    \n",
    "    def group_S(x):\n",
    "        \"\"\"\n",
    "        Group by S initial\n",
    "        \"\"\"\n",
    "        d = re.search(r'^S.*',x)\n",
    "        if d:\n",
    "            return 'initial S', True\n",
    "        else:\n",
    "            return None,False\n",
    "    \n",
    "    def group_W(x):\n",
    "        \"\"\"\n",
    "        Group by W initial\n",
    "        \"\"\"\n",
    "        d = re.search(r'^W.*',x)\n",
    "        if d:\n",
    "            return 'initial W', True\n",
    "        else:\n",
    "            return None,False\n",
    "    \n",
    "        \n",
    "    num,check = group_num(x)\n",
    "    if check:\n",
    "        return num\n",
    "    result,check = group_A(x)\n",
    "    if check:\n",
    "        return result\n",
    "    result,check = group_C(x)\n",
    "    if check:\n",
    "        return result\n",
    "    result,check = group_F(x)\n",
    "    if check:\n",
    "        return result\n",
    "    result,check = group_P(x)\n",
    "    if check:\n",
    "        return result\n",
    "    result,check = group_S(x)\n",
    "    if check:\n",
    "        return result\n",
    "    result,check = group_W(x)\n",
    "    if check:\n",
    "        return result\n",
    "\n",
    "temp06['Grouped_ticket'] = temp06.Ticket.apply(grouping)\n",
    "\n",
    "# Handling missing value, replacing it by mode value\n",
    "temp06.Grouped_ticket.isnull().sum()\n",
    "temp06.Grouped_ticket.replace(np.NaN,'Num 3',inplace=True)\n",
    "\n",
    "total = temp06.groupby(\"Grouped_ticket\").PassengerId.count()\n",
    "proportion = total/total.sum()\n",
    "print(total, proportion)\n",
    "missing_groups_ticket = ['Num 5','Num 8']\n",
    "\n"
   ]
  },
  {
   "cell_type": "code",
   "execution_count": 28,
   "metadata": {},
   "outputs": [
    {
     "name": "stdout",
     "output_type": "stream",
     "text": [
      "Grouped_Fare_quantile\n",
      "group1    97\n",
      "group2    97\n",
      "group3    93\n",
      "group4    76\n",
      "group9    55\n",
      "Name: PassengerId, dtype: int64 Grouped_Fare_quantile\n",
      "group1    0.232057\n",
      "group2    0.232057\n",
      "group3    0.222488\n",
      "group4    0.181818\n",
      "group9    0.131579\n",
      "Name: PassengerId, dtype: float64\n"
     ]
    },
    {
     "name": "stderr",
     "output_type": "stream",
     "text": [
      "/Applications/anaconda/lib/python3.6/site-packages/ipykernel_launcher.py:21: SettingWithCopyWarning: \n",
      "A value is trying to be set on a copy of a slice from a DataFrame.\n",
      "Try using .loc[row_indexer,col_indexer] = value instead\n",
      "\n",
      "See the caveats in the documentation: http://pandas.pydata.org/pandas-docs/stable/indexing.html#indexing-view-versus-copy\n",
      "/Applications/anaconda/lib/python3.6/site-packages/pandas/core/generic.py:5886: SettingWithCopyWarning: \n",
      "A value is trying to be set on a copy of a slice from a DataFrame\n",
      "\n",
      "See the caveats in the documentation: http://pandas.pydata.org/pandas-docs/stable/indexing.html#indexing-view-versus-copy\n",
      "  self._update_inplace(new_data)\n"
     ]
    }
   ],
   "source": [
    "# Feature Engineering on Fare\n",
    "temp07 = df[[\"PassengerId\",'Fare']]\n",
    "sorted_Fare = sorted(temp07.Fare)\n",
    "length_Fare = len(temp07.Fare)\n",
    "L = 9\n",
    "k = int(length_Fare/L)\n",
    "grouping_q = {}\n",
    "for i in range(1,L+1):\n",
    "    if k*i <= length_Fare-1:\n",
    "        grouping_q[f'group{i}'] = sorted_Fare[k*i-1]\n",
    "    else:\n",
    "        grouping_q[f'group{i}'] = sorted_Fare[-1]\n",
    "\n",
    "def grouping_quantile(x):\n",
    "    for key in grouping_q.keys():\n",
    "        if x > grouping_q[key]:\n",
    "            continue\n",
    "        else:\n",
    "            return key\n",
    "\n",
    "temp07['Grouped_Fare_quantile'] = temp07.Fare.apply(grouping_quantile)\n",
    "\n",
    "# handling missing value, replacing it by median group\n",
    "temp07.Grouped_Fare_quantile.replace(np.NaN,'group4',inplace=True)\n",
    "\n",
    "total = temp07.groupby('Grouped_Fare_quantile').PassengerId.count()\n",
    "proportion = total/total.sum()\n",
    "print(total, proportion)\n",
    "missing_groups_fare = ['group5','group6','group7','group8']\n",
    "\n"
   ]
  },
  {
   "cell_type": "code",
   "execution_count": 29,
   "metadata": {},
   "outputs": [
    {
     "name": "stdout",
     "output_type": "stream",
     "text": [
      "Embarked\n",
      "C    102\n",
      "Q     46\n",
      "S    270\n",
      "Name: PassengerId, dtype: int64 Embarked\n",
      "C    0.244019\n",
      "Q    0.110048\n",
      "S    0.645933\n",
      "Name: PassengerId, dtype: float64\n"
     ]
    }
   ],
   "source": [
    "# Feature Engineering on Embarked\n",
    "temp08 = df[[\"PassengerId\",'Embarked']]\n",
    "total = temp08.groupby('Embarked').PassengerId.count()\n",
    "proportion = total/total.sum()\n",
    "print(total,proportion)"
   ]
  },
  {
   "cell_type": "code",
   "execution_count": 47,
   "metadata": {
    "collapsed": true
   },
   "outputs": [],
   "source": [
    "# One Hot features\n",
    "\n",
    "one_hot_pclass = pd.get_dummies(temp01['Pclass'])\n",
    "one_hot_title = pd.get_dummies(temp02['title'])\n",
    "one_hot_age = pd.get_dummies(temp04['Age'])\n",
    "one_hot_family_size = pd.get_dummies(temp05['family_size'])\n",
    "one_hot_grouped_ticket = pd.get_dummies(temp06['Grouped_ticket'])\n",
    "one_hot_missing_ticket = pd.DataFrame(np.zeros((df.shape[0],len(missing_groups_ticket))),columns=missing_groups_ticket)\n",
    "one_hot_grouped_fare_quantile = pd.get_dummies(temp07['Grouped_Fare_quantile'])\n",
    "one_hot_missing_fare = pd.DataFrame(np.zeros((df.shape[0],len(missing_groups_fare))),columns=missing_groups_fare)\n",
    "one_hot_embarked = pd.get_dummies(temp08['Embarked'])\n"
   ]
  },
  {
   "cell_type": "code",
   "execution_count": 48,
   "metadata": {
    "collapsed": true
   },
   "outputs": [],
   "source": [
    "# Concatenate all results\n",
    "\n",
    "results = pd.concat([one_hot_pclass,\n",
    "                     one_hot_title,\n",
    "                     temp03['Sex'],\n",
    "                     one_hot_age,\n",
    "                     one_hot_family_size,\n",
    "                     one_hot_grouped_ticket,\n",
    "                     one_hot_missing_ticket,\n",
    "                     one_hot_grouped_fare_quantile,\n",
    "                     one_hot_missing_fare,\n",
    "                     one_hot_embarked\n",
    "                    ],axis=1)"
   ]
  },
  {
   "cell_type": "code",
   "execution_count": 46,
   "metadata": {},
   "outputs": [
    {
     "data": {
      "text/plain": [
       "50"
      ]
     },
     "execution_count": 46,
     "metadata": {},
     "output_type": "execute_result"
    }
   ],
   "source": [
    "len(results.columns)"
   ]
  },
  {
   "cell_type": "markdown",
   "metadata": {},
   "source": [
    "results = pd.concat([temp01,\n",
    "                     #temp02['title'],\n",
    "                     temp03,\n",
    "                     temp05['Age'],\n",
    "                     temp06['family_size'],\n",
    "                     #temp06['Parch'],\n",
    "                     #temp06['SibSp'],\n",
    "                     #temp10,\n",
    "                     #temp11\n",
    "                    ],axis=1)"
   ]
  },
  {
   "cell_type": "code",
   "execution_count": 9,
   "metadata": {},
   "outputs": [
    {
     "data": {
      "text/html": [
       "<div>\n",
       "<style scoped>\n",
       "    .dataframe tbody tr th:only-of-type {\n",
       "        vertical-align: middle;\n",
       "    }\n",
       "\n",
       "    .dataframe tbody tr th {\n",
       "        vertical-align: top;\n",
       "    }\n",
       "\n",
       "    .dataframe thead th {\n",
       "        text-align: right;\n",
       "    }\n",
       "</style>\n",
       "<table border=\"1\" class=\"dataframe\">\n",
       "  <thead>\n",
       "    <tr style=\"text-align: right;\">\n",
       "      <th></th>\n",
       "      <th>Pclass</th>\n",
       "      <th>Sex</th>\n",
       "      <th>Age</th>\n",
       "      <th>family_size</th>\n",
       "    </tr>\n",
       "  </thead>\n",
       "  <tbody>\n",
       "    <tr>\n",
       "      <th>0</th>\n",
       "      <td>3</td>\n",
       "      <td>male</td>\n",
       "      <td>adult</td>\n",
       "      <td>0</td>\n",
       "    </tr>\n",
       "    <tr>\n",
       "      <th>1</th>\n",
       "      <td>3</td>\n",
       "      <td>female</td>\n",
       "      <td>adult</td>\n",
       "      <td>1</td>\n",
       "    </tr>\n",
       "    <tr>\n",
       "      <th>2</th>\n",
       "      <td>2</td>\n",
       "      <td>male</td>\n",
       "      <td>elder</td>\n",
       "      <td>0</td>\n",
       "    </tr>\n",
       "    <tr>\n",
       "      <th>3</th>\n",
       "      <td>3</td>\n",
       "      <td>male</td>\n",
       "      <td>adult</td>\n",
       "      <td>0</td>\n",
       "    </tr>\n",
       "    <tr>\n",
       "      <th>4</th>\n",
       "      <td>3</td>\n",
       "      <td>female</td>\n",
       "      <td>adult</td>\n",
       "      <td>2</td>\n",
       "    </tr>\n",
       "  </tbody>\n",
       "</table>\n",
       "</div>"
      ],
      "text/plain": [
       "   Pclass     Sex    Age family_size\n",
       "0       3    male  adult           0\n",
       "1       3  female  adult           1\n",
       "2       2    male  elder           0\n",
       "3       3    male  adult           0\n",
       "4       3  female  adult           2"
      ]
     },
     "execution_count": 9,
     "metadata": {},
     "output_type": "execute_result"
    }
   ],
   "source": []
  },
  {
   "cell_type": "markdown",
   "metadata": {
    "collapsed": true
   },
   "source": [
    "def numeric_sex(sex):\n",
    "    if sex == 'male':\n",
    "        return 1\n",
    "    else:\n",
    "        return 0\n",
    "\n",
    "results['Sex'] = results['Sex'].apply(numeric_sex)"
   ]
  },
  {
   "cell_type": "code",
   "execution_count": null,
   "metadata": {
    "collapsed": true
   },
   "outputs": [],
   "source": []
  },
  {
   "cell_type": "markdown",
   "metadata": {
    "collapsed": true
   },
   "source": [
    "result = pd.get_dummies(results,columns=[#'Name',\n",
    "                                         'Age',\n",
    "                                         #'Embarked',\n",
    "                                         'Pclass',\n",
    "                                         #'Fare',\n",
    "                                          'family_size'\n",
    "                                        ])"
   ]
  },
  {
   "cell_type": "markdown",
   "metadata": {},
   "source": [
    "result.shape\n",
    "\n",
    "additional = np.zeros((418,4))\n",
    "temp_add = pd.DataFrame(additional,columns=[f\"Fare_group{i}\" for i in range(6,10)])\n",
    "result = pd.concat([result,temp_add],axis=1)"
   ]
  },
  {
   "cell_type": "code",
   "execution_count": 50,
   "metadata": {},
   "outputs": [
    {
     "data": {
      "text/plain": [
       "(418, 50)"
      ]
     },
     "execution_count": 50,
     "metadata": {},
     "output_type": "execute_result"
    }
   ],
   "source": [
    "results.shape"
   ]
  },
  {
   "cell_type": "code",
   "execution_count": 51,
   "metadata": {
    "collapsed": true
   },
   "outputs": [],
   "source": [
    "results.to_csv('cleaneddata_test.csv',index=False)"
   ]
  },
  {
   "cell_type": "code",
   "execution_count": null,
   "metadata": {
    "collapsed": true
   },
   "outputs": [],
   "source": []
  }
 ],
 "metadata": {
  "kernelspec": {
   "display_name": "Python 3",
   "language": "python",
   "name": "python3"
  },
  "language_info": {
   "codemirror_mode": {
    "name": "ipython",
    "version": 3
   },
   "file_extension": ".py",
   "mimetype": "text/x-python",
   "name": "python",
   "nbconvert_exporter": "python",
   "pygments_lexer": "ipython3",
   "version": "3.6.5"
  }
 },
 "nbformat": 4,
 "nbformat_minor": 2
}
